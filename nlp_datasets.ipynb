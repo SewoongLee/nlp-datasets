{
 "cells": [
  {
   "cell_type": "code",
   "execution_count": 1,
   "metadata": {},
   "outputs": [
    {
     "data": {
      "application/vnd.jupyter.widget-view+json": {
       "model_id": "d7a385dab9ce44f3a84da0299691c53d",
       "version_major": 2,
       "version_minor": 0
      },
      "text/plain": [
       "Loading dataset shards:   0%|          | 0/80 [00:00<?, ?it/s]"
      ]
     },
     "metadata": {},
     "output_type": "display_data"
    },
    {
     "data": {
      "application/vnd.jupyter.widget-view+json": {
       "model_id": "b98217e9767e4307a1ba28f377ff5327",
       "version_major": 2,
       "version_minor": 0
      },
      "text/plain": [
       "Loading dataset shards:   0%|          | 0/41 [00:00<?, ?it/s]"
      ]
     },
     "metadata": {},
     "output_type": "display_data"
    },
    {
     "data": {
      "application/vnd.jupyter.widget-view+json": {
       "model_id": "c48794ead1b84024a1888cb3a714835f",
       "version_major": 2,
       "version_minor": 0
      },
      "text/plain": [
       "Resolving data files:   0%|          | 0/287 [00:00<?, ?it/s]"
      ]
     },
     "metadata": {},
     "output_type": "display_data"
    },
    {
     "data": {
      "application/vnd.jupyter.widget-view+json": {
       "model_id": "d369edc7bbc74ca0b867c88817e3bf9f",
       "version_major": 2,
       "version_minor": 0
      },
      "text/plain": [
       "Resolving data files:   0%|          | 0/287 [00:00<?, ?it/s]"
      ]
     },
     "metadata": {},
     "output_type": "display_data"
    },
    {
     "data": {
      "application/vnd.jupyter.widget-view+json": {
       "model_id": "50606ea48e0e49a39677645d6b032ea7",
       "version_major": 2,
       "version_minor": 0
      },
      "text/plain": [
       "Loading dataset shards:   0%|          | 0/235 [00:00<?, ?it/s]"
      ]
     },
     "metadata": {},
     "output_type": "display_data"
    }
   ],
   "source": [
    "from datasets import load_dataset\n",
    "\n",
    "datasets = {\n",
    "    \"openwebtext\": load_dataset(\"openwebtext\"),\n",
    "    \"wikipedia\": load_dataset('wikipedia', '20220301.en'),\n",
    "    \"wiki_qa\": load_dataset(\"wiki_qa\"),\n",
    "    \"bookcorpus\": load_dataset(\"bookcorpus\", trust_remote_code=True),\n",
    "    \"cnn_dailymail\": load_dataset(\"cnn_dailymail\", \"3.0.0\"),\n",
    "    \"quora\": load_dataset(\"quora\", trust_remote_code=True),\n",
    "    \"cbt\": load_dataset(\"cbt\", \"raw\"),\n",
    "    \"piqa\": load_dataset(\"piqa\", trust_remote_code=True),\n",
    "    \"coqa\": load_dataset(\"coqa\"),\n",
    "    \"WinoGrande\": load_dataset(\"winogrande\", \"winogrande_xl\"),\n",
    "    \"natural_questions\": load_dataset(\"natural_questions\")\n",
    "}"
   ]
  },
  {
   "cell_type": "code",
   "execution_count": 2,
   "metadata": {},
   "outputs": [
    {
     "name": "stdout",
     "output_type": "stream",
     "text": [
      "OPENWEBTEXT : dict_keys(['train']) dict_keys(['text'])\n",
      "{'text': 'Port-au-Prince, Haiti (CNN) -- Earthquake victims, writhing in pain and grasping at life, watched doctors and nurses walk away from a field hospital Friday night after a Belgian medical team evacuated the area, saying it was concerned about security.\\n\\nThe decision left CNN Chief Medical Correspondent Sanjay Gupta as the only doctor at the hospital to get the patients through the night.\\n\\nCNN initially reported, based on conversations with some of the doctors, that the United Nations \n",
      "\n",
      "WIKIPEDIA : dict_keys(['train']) dict_keys(['id', 'url', 'title', 'text'])\n",
      "{'id': '12', 'url': 'https://en.wikipedia.org/wiki/Anarchism', 'title': 'Anarchism', 'text': 'Anarchism is a political philosophy and movement that is sceptical of authority and rejects all involuntary, coercive forms of hierarchy. Anarchism calls for the abolition of the state, which it holds to be unnecessary, undesirable, and harmful. As a historically left-wing movement, placed on the farthest left of the political spectrum, it is usually described alongside communalism and libertarian Marxi \n",
      "\n",
      "WIKI_QA : dict_keys(['test', 'validation', 'train']) dict_keys(['question_id', 'question', 'document_title', 'answer', 'label'])\n",
      "{'question_id': 'Q1', 'question': 'how are glacier caves formed?', 'document_title': 'Glacier cave', 'answer': 'A partly submerged glacier cave on Perito Moreno Glacier .', 'label': 0} \n",
      "\n",
      "BOOKCORPUS : dict_keys(['train']) dict_keys(['text'])\n",
      "{'text': 'usually , he would be tearing around the living room , playing with his toys .'} \n",
      "\n",
      "CNN_DAILYMAIL : dict_keys(['train', 'validation', 'test']) dict_keys(['article', 'highlights', 'id'])\n",
      "{'article': 'LONDON, England (Reuters) -- Harry Potter star Daniel Radcliffe gains access to a reported £20 million ($41.1 million) fortune as he turns 18 on Monday, but he insists the money won\\'t cast a spell on him. Daniel Radcliffe as Harry Potter in \"Harry Potter and the Order of the Phoenix\" To the disappointment of gossip columnists around the world, the young actor says he has no plans to fritter his cash away on fast cars, drink and celebrity parties. \"I don\\'t plan to be one of those p \n",
      "\n",
      "QUORA : dict_keys(['train']) dict_keys(['questions', 'is_duplicate'])\n",
      "{'questions': {'id': [1, 2], 'text': ['What is the step by step guide to invest in share market in india?', 'What is the step by step guide to invest in share market?']}, 'is_duplicate': False} \n",
      "\n",
      "CBT : dict_keys(['train', 'test', 'validation']) dict_keys(['title', 'content'])\n",
      "{'title': 'Andrew_Lang___Prince_Prigio.txt.out', 'content': \"CHAPTER I. -LCB- Chapter heading picture : p1.jpg -RCB- How the Fairies were not Invited to Court .\\nOnce upon a time there reigned in Pantouflia a king and a queen .\\nWith almost everything else to make them happy , they wanted one thing : they had no children .\\nThis vexed the king even more than the queen , who was very clever and learned , and who had hated dolls when she was a child .\\nHowever , she , too in spite of all the books \n",
      "\n",
      "PIQA : dict_keys(['train', 'test', 'validation']) dict_keys(['goal', 'sol1', 'sol2', 'label'])\n",
      "{'goal': \"When boiling butter, when it's ready, you can\", 'sol1': 'Pour it onto a plate', 'sol2': 'Pour it into a jar', 'label': 1} \n",
      "\n",
      "COQA : dict_keys(['train', 'validation']) dict_keys(['source', 'story', 'questions', 'answers'])\n",
      "{'source': 'wikipedia', 'story': 'The Vatican Apostolic Library (), more commonly called the Vatican Library or simply the Vat, is the library of the Holy See, located in Vatican City. Formally established in 1475, although it is much older, it is one of the oldest libraries in the world and contains one of the most significant collections of historical texts. It has 75,000 codices from throughout history, as well as 1.1 million printed books, which include some 8,500 incunabula. \\n\\nThe Vatican \n",
      "\n",
      "WINOGRANDE : dict_keys(['train', 'test', 'validation']) dict_keys(['sentence', 'option1', 'option2', 'answer'])\n",
      "{'sentence': \"Ian volunteered to eat Dennis's menudo after already having a bowl because _ despised eating intestine.\", 'option1': 'Ian', 'option2': 'Dennis', 'answer': '2'} \n",
      "\n",
      "NATURAL_QUESTIONS : dict_keys(['train', 'validation']) dict_keys(['id', 'document', 'question', 'long_answer_candidates', 'annotations'])\n",
      "{'id': '4549465242785278785', 'document': {'html': '<!DOCTYPE html>\\n<HTML class=\"client-js ve-not-available\" lang=\"en\" dir=\"ltr\"><HEAD>\\n\\n<TITLE>The Walking Dead (season 8) - Wikipedia</TITLE>\\n\\n\\n<LINK rel=\"stylesheet\" href=\"/w/load.php?debug=false&amp;lang=en&amp;modules=ext.cite.styles%7Cext.timeline.styles%7Cext.uls.interlanguage%7Cext.visualEditor.desktopArticleTarget.noscript%7Cext.wikimediaBadges%7Cmediawiki.legacy.commonPrint%2Cshared%7Cmediawiki.sectionAnchor%7Cmediawiki.skinning.int \n",
      "\n"
     ]
    }
   ],
   "source": [
    "for name, dataset in datasets.items():\n",
    "    print(name.upper(), \":\", dataset.keys(), dataset[\"train\"][0].keys())\n",
    "    print(str(dataset[\"train\"][0])[:500], \"\\n\")"
   ]
  },
  {
   "cell_type": "code",
   "execution_count": null,
   "metadata": {},
   "outputs": [],
   "source": []
  }
 ],
 "metadata": {
  "kernelspec": {
   "display_name": "Python 3",
   "language": "python",
   "name": "python3"
  },
  "language_info": {
   "codemirror_mode": {
    "name": "ipython",
    "version": 3
   },
   "file_extension": ".py",
   "mimetype": "text/x-python",
   "name": "python",
   "nbconvert_exporter": "python",
   "pygments_lexer": "ipython3",
   "version": "3.11.9"
  }
 },
 "nbformat": 4,
 "nbformat_minor": 2
}
