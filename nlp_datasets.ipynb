{
 "cells": [
  {
   "cell_type": "code",
   "execution_count": 1,
   "metadata": {},
   "outputs": [
    {
     "data": {
      "application/vnd.jupyter.widget-view+json": {
       "model_id": "816ab999b5a3484196023ee98a7ffa3b",
       "version_major": 2,
       "version_minor": 0
      },
      "text/plain": [
       "Loading dataset shards:   0%|          | 0/80 [00:00<?, ?it/s]"
      ]
     },
     "metadata": {},
     "output_type": "display_data"
    },
    {
     "data": {
      "application/vnd.jupyter.widget-view+json": {
       "model_id": "6548a513058e4b009a829da2283ef58f",
       "version_major": 2,
       "version_minor": 0
      },
      "text/plain": [
       "Loading dataset shards:   0%|          | 0/41 [00:00<?, ?it/s]"
      ]
     },
     "metadata": {},
     "output_type": "display_data"
    },
    {
     "data": {
      "application/vnd.jupyter.widget-view+json": {
       "model_id": "1ca8ef0a18594336acdeee268e5b5340",
       "version_major": 2,
       "version_minor": 0
      },
      "text/plain": [
       "Resolving data files:   0%|          | 0/287 [00:00<?, ?it/s]"
      ]
     },
     "metadata": {},
     "output_type": "display_data"
    },
    {
     "data": {
      "application/vnd.jupyter.widget-view+json": {
       "model_id": "187deaf47a4d47088e2351b601d73c7a",
       "version_major": 2,
       "version_minor": 0
      },
      "text/plain": [
       "Resolving data files:   0%|          | 0/287 [00:00<?, ?it/s]"
      ]
     },
     "metadata": {},
     "output_type": "display_data"
    },
    {
     "data": {
      "application/vnd.jupyter.widget-view+json": {
       "model_id": "e4c7e8c21f6b4c31a0ee9f62cd419f07",
       "version_major": 2,
       "version_minor": 0
      },
      "text/plain": [
       "Loading dataset shards:   0%|          | 0/235 [00:00<?, ?it/s]"
      ]
     },
     "metadata": {},
     "output_type": "display_data"
    }
   ],
   "source": [
    "from datasets import load_dataset\n",
    "\n",
    "datasets = {\n",
    "    \"openwebtext\": load_dataset(\"openwebtext\"),\n",
    "    \"wikipedia\": load_dataset('wikipedia', '20220301.en'),\n",
    "    \"wiki_qa\": load_dataset(\"wiki_qa\"),\n",
    "    \"bookcorpus\": load_dataset(\"bookcorpus\", trust_remote_code=True),\n",
    "    \"cnn_dailymail\": load_dataset(\"cnn_dailymail\", \"3.0.0\"),\n",
    "    \"quora\": load_dataset(\"quora\", trust_remote_code=True),\n",
    "    \"cbt\": load_dataset(\"cbt\", \"raw\"),\n",
    "    \"piqa\": load_dataset(\"piqa\", trust_remote_code=True),\n",
    "    \"coqa\": load_dataset(\"coqa\"),\n",
    "    \"WinoGrande\": load_dataset(\"winogrande\", \"winogrande_xl\"),\n",
    "    \"natural_questions\": load_dataset(\"natural_questions\")\n",
    "}"
   ]
  },
  {
   "cell_type": "code",
   "execution_count": 3,
   "metadata": {},
   "outputs": [
    {
     "name": "stdout",
     "output_type": "stream",
     "text": [
      "OPENWEBTEXT : dict_keys(['train']) dict_keys(['text'])\n",
      "{'text': 'Port-au-Prince, Haiti (CNN) -- Earthquake victims, writhing in pain and grasping at life,  \n",
      "\n",
      "WIKIPEDIA : dict_keys(['train']) dict_keys(['id', 'url', 'title', 'text'])\n",
      "{'id': '12', 'url': 'https://en.wikipedia.org/wiki/Anarchism', 'title': 'Anarchism', 'text': 'Anarch \n",
      "\n",
      "WIKI_QA : dict_keys(['test', 'validation', 'train']) dict_keys(['question_id', 'question', 'document_title', 'answer', 'label'])\n",
      "{'question_id': 'Q1', 'question': 'how are glacier caves formed?', 'document_title': 'Glacier cave', \n",
      "\n",
      "BOOKCORPUS : dict_keys(['train']) dict_keys(['text'])\n",
      "{'text': 'usually , he would be tearing around the living room , playing with his toys .'} \n",
      "\n",
      "CNN_DAILYMAIL : dict_keys(['train', 'validation', 'test']) dict_keys(['article', 'highlights', 'id'])\n",
      "{'article': 'LONDON, England (Reuters) -- Harry Potter star Daniel Radcliffe gains access to a repor \n",
      "\n",
      "QUORA : dict_keys(['train']) dict_keys(['questions', 'is_duplicate'])\n",
      "{'questions': {'id': [1, 2], 'text': ['What is the step by step guide to invest in share market in i \n",
      "\n",
      "CBT : dict_keys(['train', 'test', 'validation']) dict_keys(['title', 'content'])\n",
      "{'title': 'Andrew_Lang___Prince_Prigio.txt.out', 'content': \"CHAPTER I. -LCB- Chapter heading pictur \n",
      "\n",
      "PIQA : dict_keys(['train', 'test', 'validation']) dict_keys(['goal', 'sol1', 'sol2', 'label'])\n",
      "{'goal': \"When boiling butter, when it's ready, you can\", 'sol1': 'Pour it onto a plate', 'sol2': 'P \n",
      "\n",
      "COQA : dict_keys(['train', 'validation']) dict_keys(['source', 'story', 'questions', 'answers'])\n",
      "{'source': 'wikipedia', 'story': 'The Vatican Apostolic Library (), more commonly called the Vatican \n",
      "\n",
      "WINOGRANDE : dict_keys(['train', 'test', 'validation']) dict_keys(['sentence', 'option1', 'option2', 'answer'])\n",
      "{'sentence': \"Ian volunteered to eat Dennis's menudo after already having a bowl because _ despised  \n",
      "\n",
      "NATURAL_QUESTIONS : dict_keys(['train', 'validation']) dict_keys(['id', 'document', 'question', 'long_answer_candidates', 'annotations'])\n",
      "{'id': '4549465242785278785', 'document': {'html': '<!DOCTYPE html>\\n<HTML class=\"client-js ve-not-a \n",
      "\n"
     ]
    }
   ],
   "source": [
    "for name, dataset in datasets.items():\n",
    "    print(name.upper(), \":\", dataset.keys(), dataset[\"train\"][0].keys())\n",
    "    print(str(dataset[\"train\"][0])[:100], \"\\n\")"
   ]
  },
  {
   "cell_type": "code",
   "execution_count": null,
   "metadata": {},
   "outputs": [],
   "source": []
  }
 ],
 "metadata": {
  "kernelspec": {
   "display_name": "Python 3",
   "language": "python",
   "name": "python3"
  },
  "language_info": {
   "codemirror_mode": {
    "name": "ipython",
    "version": 3
   },
   "file_extension": ".py",
   "mimetype": "text/x-python",
   "name": "python",
   "nbconvert_exporter": "python",
   "pygments_lexer": "ipython3",
   "version": "3.11.9"
  }
 },
 "nbformat": 4,
 "nbformat_minor": 2
}
